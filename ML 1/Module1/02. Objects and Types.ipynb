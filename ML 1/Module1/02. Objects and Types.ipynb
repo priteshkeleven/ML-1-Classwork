{
 "cells": [
  {
   "cell_type": "markdown",
   "metadata": {},
   "source": [
    "# Objects and Types"
   ]
  },
  {
   "cell_type": "markdown",
   "metadata": {},
   "source": [
    "## Every \"value\" in Python is an \"object\"\n",
    "\n",
    "Until now, the term **value** has been used to refer to numbers (2, 3, -99, etc..) and booleans (`True` and `False`). Formally, all of these values are **objects**. The term object will seem abstract at the moment, but a good first (yet incomplete) analogy is to think of objects as you would physical objects in the real world. For instance, I'm currently in a bedroom writing this book and see a bed, mirror, chair, desk, lamp, phone, etc... These are all objects just like all numbers and booleans are Python objects.\n",
    "\n",
    "Everything that can be assigned to a variable in Python is an object and a common expression associated with Python is that \"everything is an object\".\n",
    "\n",
    "### Every object has a type\n",
    "\n",
    "One of the most important concepts to internalize when learning Python is that every object has a **type**. An object's type is one of the most fundamental properties of an object. Again, an analogy to the real-world can be useful. Let's imagine that one of your friends calls you and says \"I need you to get me an object\". You might respond with \"Wow, that's one of the weirdest requests I've ever gotten\". But, since you are a friend you might also ask \"What **type** of object do you need?\". Your friend might respond with something like \"cup\", \"sugar\", \"lawnmower\", \"scissors\", etc... \n",
    "\n",
    "All of these words would be considered types and represent a generic description of which many specific physical objects would be suitable for your friend.. If your friend did respond with \"cup\" for instance, then you might go into your kitchen and see that you have 10 different styles of cups. The one cup that you select to bring to your friend is the actual physical object.\n",
    "\n",
    "## Types in Python\n",
    "\n",
    "In the previous chapter, we used many objects to understand how to work with operators. For example, when we run the code `5 + 3`, we adding together two objects. The numbers 3 and 5 are both objects. The addition symbol is an operator and NOT an object.\n",
    "\n",
    "### Using the `type` function\n",
    "To formally find an object's type in Python, we can use the `type` function. A formal discussion of functions will happen in a future chapter. Using the `type` function is simple. Place the object within parentheses following the `type` function. We say, we **call** the `type` function."
   ]
  },
  {
   "cell_type": "code",
   "execution_count": 5,
   "metadata": {},
   "outputs": [
    {
     "data": {
      "text/plain": [
       "int"
      ]
     },
     "execution_count": 5,
     "metadata": {},
     "output_type": "execute_result"
    }
   ],
   "source": [
    "type(5)"
   ]
  },
  {
   "cell_type": "markdown",
   "metadata": {},
   "source": [
    "The formal Python type of the object 5 is `int` which stands for **integer**. All Python types have very strict definitions that describe what objects of that type can do. By knowing that the object 5 is an integer, we immediately understand many things about it. For instance, it can be used in an expression with the arithmetic and comparison operators from the last chapter.\n",
    "\n",
    "Let's go back to our friend who needs a cup. While there is no universally agreed upon technical definition for a cup, there are many practical ones. Perhaps you could say that a cup is an object constructed from solid material, typically cylindrical in shape containing no material on the top, is easy to hold and is used to place liquid within.\n",
    "\n",
    "The most fundamental piece of information for any object in Python is its type. You must know what type of object you are dealing with so that you can know how its properties and how it behaves with the rest of your program. This is very similar to the real world. When we look at physical objects, we usually have no time labeling them as a particular type of object. This abstraction is useful for understanding what the object's general properties and abilities are. It also makes conversation much easier. A single word, \"cup\" can be used instead of that terribly long description I attempted.\n",
    "\n",
    "### Terminology type vs object\n",
    "\n",
    "It's important to be able to distinguish between the terms type and object. They are related but not the same. The numbers 5, 3, and -99 are all objects in Python. When you create them, they are physically located in memory on your machine. They literally exist. All of them are integers, technically of type `int`. All objects of the same type will generally behave similarly just like all cups will behave similarly though not all alike.\n",
    "\n",
    "There is only a single integer type in Python, but there are many, many integer objects that can be created. In fact, there is no limit to the length of an integer in Python. The term **instance** is often used to refer to a single member of a particular type. 5, 3, and -99 are all instances of the `int` type. More coverage will be devoted to this in the chapters on classes and object-oriented programming."
   ]
  },
  {
   "cell_type": "markdown",
   "metadata": {},
   "source": [
    "## Boolean types\n",
    "\n",
    "Python has a boolean type is formally `bool`. There are exactly two objects available for the `bool` type - `True` and `False`. Let's use the `type` function to verify this."
   ]
  },
  {
   "cell_type": "code",
   "execution_count": 12,
   "metadata": {},
   "outputs": [
    {
     "data": {
      "text/plain": [
       "bool"
      ]
     },
     "execution_count": 12,
     "metadata": {},
     "output_type": "execute_result"
    }
   ],
   "source": [
    "type(True)"
   ]
  },
  {
   "cell_type": "markdown",
   "metadata": {},
   "source": [
    "Booleans are actually a special type of integer with `True` evaluating as 1 and `False` as 0. You can use them in numeric expressions."
   ]
  },
  {
   "cell_type": "code",
   "execution_count": 13,
   "metadata": {},
   "outputs": [
    {
     "data": {
      "text/plain": [
       "4"
      ]
     },
     "execution_count": 13,
     "metadata": {},
     "output_type": "execute_result"
    }
   ],
   "source": [
    "4 * True + 3 * False"
   ]
  },
  {
   "cell_type": "markdown",
   "metadata": {},
   "source": [
    "Technically the `bool` type is a **subtype** or **subclass** of `int`. This is out of scope for this current chapter, but you can verify this with the `issubclass` function which takes two arguments and checks whether the first class is a subclass of the second."
   ]
  },
  {
   "cell_type": "code",
   "execution_count": 21,
   "metadata": {},
   "outputs": [
    {
     "data": {
      "text/plain": [
       "True"
      ]
     },
     "execution_count": 21,
     "metadata": {},
     "output_type": "execute_result"
    }
   ],
   "source": [
    "issubclass(bool, int)"
   ]
  },
  {
   "cell_type": "markdown",
   "metadata": {},
   "source": [
    "Notice that the `bool` and `int` are both built-in to the Python language and available to use in all programs."
   ]
  },
  {
   "cell_type": "markdown",
   "metadata": {},
   "source": [
    "## Float types\n",
    "\n",
    "Floats are a separate numeric type and are typically created using digits with a decimal. Floats, unlike integers, cannot be arbitrarily large and are limited in precision by your machine hardware. Let's see some examples."
   ]
  },
  {
   "cell_type": "code",
   "execution_count": 23,
   "metadata": {},
   "outputs": [
    {
     "data": {
      "text/plain": [
       "float"
      ]
     },
     "execution_count": 23,
     "metadata": {},
     "output_type": "execute_result"
    }
   ],
   "source": [
    "type(10.12345)"
   ]
  },
  {
   "cell_type": "code",
   "execution_count": 24,
   "metadata": {},
   "outputs": [
    {
     "data": {
      "text/plain": [
       "float"
      ]
     },
     "execution_count": 24,
     "metadata": {},
     "output_type": "execute_result"
    }
   ],
   "source": [
    "type(.12345)"
   ]
  },
  {
   "cell_type": "markdown",
   "metadata": {},
   "source": [
    "It's possible to end a number with a decimal. In that case, it is still a float."
   ]
  },
  {
   "cell_type": "code",
   "execution_count": 25,
   "metadata": {},
   "outputs": [
    {
     "data": {
      "text/plain": [
       "float"
      ]
     },
     "execution_count": 25,
     "metadata": {},
     "output_type": "execute_result"
    }
   ],
   "source": [
    "type(99.)"
   ]
  },
  {
   "cell_type": "markdown",
   "metadata": {},
   "source": [
    "You can create floats using scientific notation with either `e` or `E` followed by a positive or negative number. Some examples follow:"
   ]
  },
  {
   "cell_type": "code",
   "execution_count": 31,
   "metadata": {},
   "outputs": [
    {
     "data": {
      "text/plain": [
       "5460.0"
      ]
     },
     "execution_count": 31,
     "metadata": {},
     "output_type": "execute_result"
    }
   ],
   "source": [
    "5.46e3"
   ]
  },
  {
   "cell_type": "code",
   "execution_count": 32,
   "metadata": {},
   "outputs": [
    {
     "data": {
      "text/plain": [
       "2.3413e-45"
      ]
     },
     "execution_count": 32,
     "metadata": {},
     "output_type": "execute_result"
    }
   ],
   "source": [
    "2.3413E-45"
   ]
  },
  {
   "cell_type": "markdown",
   "metadata": {},
   "source": [
    "Floats and integers are completely separate classes and one is not a subclass of the other."
   ]
  },
  {
   "cell_type": "code",
   "execution_count": 33,
   "metadata": {},
   "outputs": [
    {
     "data": {
      "text/plain": [
       "False"
      ]
     },
     "execution_count": 33,
     "metadata": {},
     "output_type": "execute_result"
    }
   ],
   "source": [
    "issubclass(int, float)"
   ]
  },
  {
   "cell_type": "code",
   "execution_count": 34,
   "metadata": {},
   "outputs": [
    {
     "data": {
      "text/plain": [
       "False"
      ]
     },
     "execution_count": 34,
     "metadata": {},
     "output_type": "execute_result"
    }
   ],
   "source": [
    "issubclass(float, int)"
   ]
  },
  {
   "cell_type": "markdown",
   "metadata": {},
   "source": [
    "## Complex types\n",
    "\n",
    "Python has a special type of object for imaginary numbers. Append a `j` or `J` to any number to make it imaginary and formally of type `complex`."
   ]
  },
  {
   "cell_type": "code",
   "execution_count": 44,
   "metadata": {},
   "outputs": [
    {
     "data": {
      "text/plain": [
       "complex"
      ]
     },
     "execution_count": 44,
     "metadata": {},
     "output_type": "execute_result"
    }
   ],
   "source": [
    "type(3j)"
   ]
  },
  {
   "cell_type": "code",
   "execution_count": 47,
   "metadata": {},
   "outputs": [
    {
     "data": {
      "text/plain": [
       "complex"
      ]
     },
     "execution_count": 47,
     "metadata": {},
     "output_type": "execute_result"
    }
   ],
   "source": [
    "type(2 - 4.23J)"
   ]
  },
  {
   "cell_type": "markdown",
   "metadata": {},
   "source": [
    "## Readability with underscores"
   ]
  },
  {
   "cell_type": "markdown",
   "metadata": {},
   "source": [
    "Python allows you to write numbers with underscores in them. This was put in the language to help readability. Underscores cannot appear as the first or last character and cannot appear consecutively. They are quite useful when writing large numbers such as one billion. They do not affect the usability of the number at all. For instance, the below is the integer 1 billion."
   ]
  },
  {
   "cell_type": "code",
   "execution_count": 1,
   "metadata": {},
   "outputs": [
    {
     "data": {
      "text/plain": [
       "1000000000"
      ]
     },
     "execution_count": 1,
     "metadata": {},
     "output_type": "execute_result"
    }
   ],
   "source": [
    "1_000_000_000"
   ]
  },
  {
   "cell_type": "markdown",
   "metadata": {},
   "source": [
    "## Variables in the `type` function\n",
    "Thus far, we have passed the literal values to the `type` function. But, you can also assign a value to a variable and then pass that variable to the type function to find its type. It will produce the same result as above."
   ]
  },
  {
   "cell_type": "code",
   "execution_count": 52,
   "metadata": {},
   "outputs": [
    {
     "data": {
      "text/plain": [
       "int"
      ]
     },
     "execution_count": 52,
     "metadata": {},
     "output_type": "execute_result"
    }
   ],
   "source": [
    "a = 5\n",
    "type(a)"
   ]
  },
  {
   "cell_type": "code",
   "execution_count": 53,
   "metadata": {},
   "outputs": [
    {
     "data": {
      "text/plain": [
       "float"
      ]
     },
     "execution_count": 53,
     "metadata": {},
     "output_type": "execute_result"
    }
   ],
   "source": [
    "b = 81.14\n",
    "type(b)"
   ]
  },
  {
   "cell_type": "markdown",
   "metadata": {},
   "source": [
    "## Object identity\n",
    "Every object that you create during your program has a specific place in your computer's memory where it is located. The `id` function is used to find this location and return the address."
   ]
  },
  {
   "cell_type": "code",
   "execution_count": 2,
   "metadata": {},
   "outputs": [
    {
     "data": {
      "text/plain": [
       "140711619209136"
      ]
     },
     "execution_count": 2,
     "metadata": {},
     "output_type": "execute_result"
    }
   ],
   "source": [
    "a = 5\n",
    "id(a)"
   ]
  },
  {
   "cell_type": "code",
   "execution_count": 3,
   "metadata": {},
   "outputs": [
    {
     "data": {
      "text/plain": [
       "2177901438128"
      ]
     },
     "execution_count": 3,
     "metadata": {},
     "output_type": "execute_result"
    }
   ],
   "source": [
    "b = 4 - 5.123j\n",
    "id(b)"
   ]
  },
  {
   "cell_type": "markdown",
   "metadata": {},
   "source": [
    "An object's memory address will never change throughout its existence. It may be useful to think of a memory address as an address in the real world. Homes and business have addresses to specify their exact location. For the most part these uniquely identify exactly where the home or business is so that someone else can easily find it. All Python objects have unique memory addresses so that they may be found directly each time they are needed.\n",
    "\n",
    "### Reassigning variables\n",
    "Let's take a look at a possibly confusing example where we reassign a variable to a new value and check its identity both before and after the new assignment."
   ]
  },
  {
   "cell_type": "code",
   "execution_count": 4,
   "metadata": {},
   "outputs": [
    {
     "data": {
      "text/plain": [
       "140711619209136"
      ]
     },
     "execution_count": 4,
     "metadata": {},
     "output_type": "execute_result"
    }
   ],
   "source": [
    "a = 5\n",
    "id(a)"
   ]
  },
  {
   "cell_type": "code",
   "execution_count": 5,
   "metadata": {},
   "outputs": [
    {
     "data": {
      "text/plain": [
       "2177901437200"
      ]
     },
     "execution_count": 5,
     "metadata": {},
     "output_type": "execute_result"
    }
   ],
   "source": [
    "a = 1.5\n",
    "id(a)"
   ]
  },
  {
   "cell_type": "markdown",
   "metadata": {},
   "source": [
    "It looks as though the object has changed memory addresses which directly contradicts the information from above, but we must make a deeper dive into how Python variables work. Variables are not objects. They simply refer to the underlying object. So, in the first cell above, the integer object 5 was created in memory. It is 5 that is the object. The variable `a` is merely a name that refers to this object.\n",
    "\n",
    "In the second cell, the new float object 1.5 was created in memory and we just happened to use the same variable name `a` to refer to it.\n",
    "\n",
    "Perhaps we can turn to the real-world again for clarity. Lets say I join a company where the CEO demands that every person be referred to as a single unique name. When I join, my coworkers refer to me as 'Teddy', which is what my friends do. No one else has this name so I can keep using it. Some time later, another person joins the company and wants to use Teddy as their name. I decide to give up this title and begin going by 'Ted' which is available.\n",
    "\n",
    "Converting this analogy to Python, my physical presence as a human being is the object. Teddy was merely a name to reference myself. That is all. It provided a useful label to get to me. To make this analogy work, we need to assume that I physically located at a single address that never changes, but it is this address that points to my existence. When I give up the Teddy name, I am still located at the same address. Nothing has fundamentally changed about me. There is just a different name, Ted, to reference me. The name Teddy now refers to a new person with their own location in memory.\n",
    "\n",
    "## Dynamic Typing\n",
    "\n",
    "In Python you can reassign a previously defined variable to an object of a different type. For instance, in the previous code cells, `a` was first assigned to the integer 5 and then was assigned to the float 1.5. There are now restrictions on what types your variables may be assigned to. Let's see an example where a variable is assigned to four different types in a row."
   ]
  },
  {
   "cell_type": "code",
   "execution_count": 61,
   "metadata": {},
   "outputs": [],
   "source": [
    "a = 1\n",
    "a = 1.5\n",
    "a = True\n",
    "a = 3j"
   ]
  },
  {
   "cell_type": "markdown",
   "metadata": {},
   "source": [
    "**Dynamic typing** is a term used to describe programming language that allow variables to change types. The word 'dynamic' is synonymous with something that is changing. Languages that don't allow variables to change types are called **statically typed**.\n",
    "\n",
    "Statically typed languages will usually force their users to declare the type for each variable upon creation. If the variable `a` is declared to be an integer, then it will remain an integer for the entire program. This provides some great benefits in that you are guaranteed that `a` will be an integer when it is used. It also makes it easier for the compiler to determine if there are commands that are incompatible with certain types.\n",
    "\n",
    "The advantage of dynamic typing is the speed you gain when developing code. It is often much easier to test out solutions in a language like Python where you can quickly iterate through results. Dynamic typing is also valuable within an interactive environment like a Jupyter Notebook."
   ]
  },
  {
   "cell_type": "markdown",
   "metadata": {},
   "source": [
    "## Built-in types\n",
    "\n",
    "This chapter looked at the four **built-in** types `bool`, `int`, `float`, and `complex`. The term built-in refers to the available language constructs that are available to you immediately when you begin programming. Every installation of Python will contain these built-in features and they form the core of the language.\n",
    "\n",
    "There are many other built-in language types that will be covered in the coming chapters such as strings, tuples, sets, and dictionaries. After we have covered all these basic types, we will learn how to create our own types."
   ]
  }
 ],
 "metadata": {
  "kernelspec": {
   "display_name": "Python 3",
   "language": "python",
   "name": "python3"
  },
  "language_info": {
   "codemirror_mode": {
    "name": "ipython",
    "version": 3
   },
   "file_extension": ".py",
   "mimetype": "text/x-python",
   "name": "python",
   "nbconvert_exporter": "python",
   "pygments_lexer": "ipython3",
   "version": "3.8.8"
  }
 },
 "nbformat": 4,
 "nbformat_minor": 4
}
